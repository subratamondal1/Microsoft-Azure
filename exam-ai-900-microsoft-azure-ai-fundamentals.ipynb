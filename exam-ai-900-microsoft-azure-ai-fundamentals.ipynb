{
 "cells": [
  {
   "cell_type": "code",
   "execution_count": 1,
   "id": "5caafe5f",
   "metadata": {
    "_cell_guid": "b1076dfc-b9ad-4769-8c92-a6c4dae69d19",
    "_uuid": "8f2839f25d086af736a60e9eeb907d3b93b6e0e5",
    "execution": {
     "iopub.execute_input": "2023-04-02T14:36:27.813804Z",
     "iopub.status.busy": "2023-04-02T14:36:27.813055Z",
     "iopub.status.idle": "2023-04-02T14:36:27.827969Z",
     "shell.execute_reply": "2023-04-02T14:36:27.826281Z"
    },
    "papermill": {
     "duration": 0.022811,
     "end_time": "2023-04-02T14:36:27.830356",
     "exception": false,
     "start_time": "2023-04-02T14:36:27.807545",
     "status": "completed"
    },
    "tags": []
   },
   "outputs": [],
   "source": [
    "# This Python 3 environment comes with many helpful analytics libraries installed\n",
    "# It is defined by the kaggle/python Docker image: https://github.com/kaggle/docker-python\n",
    "# For example, here's several helpful packages to load\n",
    "\n",
    "import numpy as np # linear algebra\n",
    "import pandas as pd # data processing, CSV file I/O (e.g. pd.read_csv)\n",
    "\n",
    "# Input data files are available in the read-only \"../input/\" directory\n",
    "# For example, running this (by clicking run or pressing Shift+Enter) will list all files under the input directory\n",
    "\n",
    "import os\n",
    "for dirname, _, filenames in os.walk('/kaggle/input'):\n",
    "    for filename in filenames:\n",
    "        print(os.path.join(dirname, filename))\n",
    "\n",
    "# You can write up to 20GB to the current directory (/kaggle/working/) that gets preserved as output when you create a version using \"Save & Run All\" \n",
    "# You can also write temporary files to /kaggle/temp/, but they won't be saved outside of the current session"
   ]
  },
  {
   "cell_type": "markdown",
   "id": "0a857055",
   "metadata": {
    "papermill": {
     "duration": 0.002069,
     "end_time": "2023-04-02T14:36:27.835142",
     "exception": false,
     "start_time": "2023-04-02T14:36:27.833073",
     "status": "completed"
    },
    "tags": []
   },
   "source": [
    "# <center>Get started with AI on Azure </center>\n",
    "---"
   ]
  },
  {
   "cell_type": "markdown",
   "id": "97cb23c7",
   "metadata": {
    "papermill": {
     "duration": 0.001876,
     "end_time": "2023-04-02T14:36:27.839122",
     "exception": false,
     "start_time": "2023-04-02T14:36:27.837246",
     "status": "completed"
    },
    "tags": []
   },
   "source": [
    "## [What is AI?](https://learn.microsoft.com/en-in/training/modules/get-started-ai-fundamentals/1-introduction)\n",
    "---\n",
    "Simply put, AI is the creation of software that imitates human behaviors and capabilities. Key workloads include:\n",
    "* **`Machine learning`** - This is often the foundation for an AI system, and is the way we \"teach\" a computer model to make prediction and draw conclusions from data.\n",
    "* **`Anomaly detection`** - The capability to automatically detect errors or unusual activity in a system.\n",
    "* **`Computer vision`** - The capability of software to interpret the world visually through cameras, video, and images.\n",
    "* **`Natural language processing`** - The capability for a computer to interpret written or spoken language, and respond in kind.\n",
    "Knowledge mining - The capability to extract information from large volumes of often unstructured data to create a searchable knowledge store."
   ]
  },
  {
   "cell_type": "markdown",
   "id": "73663b48",
   "metadata": {
    "papermill": {
     "duration": 0.001934,
     "end_time": "2023-04-02T14:36:27.843105",
     "exception": false,
     "start_time": "2023-04-02T14:36:27.841171",
     "status": "completed"
    },
    "tags": []
   },
   "source": [
    "## [Understand machine learning](https://learn.microsoft.com/en-in/training/modules/get-started-ai-fundamentals/2-understand-machine-learn)\n",
    "Machine Learning is the foundation for most AI solutions.\n",
    "\n",
    "Let's start by looking at a real-world example of how machine learning can be used to solve a difficult problem.\n",
    "\n",
    "**Sustainable farming techniques** are essential to maximize food production while protecting a fragile environment. **[The Yield](https://www.theyield.com/)**, an agricultural technology company based in Australia, uses sensors, data and machine learning to help farmers make informed decisions related to weather, soil and plant conditions.\n",
    "\n",
    "## How machine learning works\n",
    "---\n",
    "So how do machines learn?\n",
    "\n",
    "The answer is, **from data**. In today's world, we create huge volumes of data as we go about our everyday lives. From the text messages, emails, and social media posts we send to the photographs and videos we take on our phones, we generate massive amounts of information. More data still is created by millions of sensors in our homes, cars, cities, public transport infrastructure, and factories.\n",
    "\n",
    "Data scientists can use all of that data to train machine learning models that can make predictions and inferences based on the relationships they find in the data.\n",
    "\n",
    "For example, suppose an environmental conservation organization wants volunteers to identify and catalog different species of wildflower using a phone app. The following animation shows how machine learning can be used to enable this scenario.\n",
    "\n",
    "![animation](https://learn.microsoft.com/en-in/training/wwl-data-ai/get-started-ai-fundamentals/media/machine-learn.gif)\n",
    "\n",
    "    1. A team of botanists and scientists collect data on wildflower samples.\n",
    "    2. The team labels the samples with the correct species.\n",
    "    3. The labeled data is processed using an algorithm that finds relationships between the features of the samples and the labeled species.\n",
    "    4. The results of the algorithm are encapsulated in a model.\n",
    "    5. When new samples are found by volunteers, the model can identify the correct species label."
   ]
  },
  {
   "cell_type": "markdown",
   "id": "bf3d34ef",
   "metadata": {
    "papermill": {
     "duration": 0.001988,
     "end_time": "2023-04-02T14:36:27.847252",
     "exception": false,
     "start_time": "2023-04-02T14:36:27.845264",
     "status": "completed"
    },
    "tags": []
   },
   "source": [
    "## Machine learning in Microsoft Azure\n",
    "Microsoft Azure provides the Azure Machine Learning service - a cloud-based platform for creating, managing, and publishing machine learning models. Azure Machine Learning provides the following features and capabilities:\n",
    "\n",
    "| **`Feature`** | **`Capability`** |\n",
    "| -------- | -------- |\n",
    "|**Automated machine learning**| This feature enables non-experts to quickly create an effective machine learning model from data.|\n",
    "|**Azure Machine Learning designer**| A graphical interface enabling no-code development of machine learning solutions.|\n",
    "|**Data and compute management**| Cloud-based data storage and compute resources that professional data scientists can use to run data experiment code at scale.|\n",
    "|**Pipelines**| Data scientists, software engineers, and IT operations professionals can define pipelines to orchestrate model training, deployment, and management tasks.|"
   ]
  },
  {
   "cell_type": "markdown",
   "id": "0f49cc0f",
   "metadata": {
    "papermill": {
     "duration": 0.001943,
     "end_time": "2023-04-02T14:36:27.851359",
     "exception": false,
     "start_time": "2023-04-02T14:36:27.849416",
     "status": "completed"
    },
    "tags": []
   },
   "source": [
    "## [Understand anomaly detection](https://learn.microsoft.com/en-in/training/modules/get-started-ai-fundamentals/3-understand-anomaly-detection)\n",
    "---\n",
    "Imagine you're creating a software system to monitor credit card transactions and detect unusual usage patterns that might indicate fraud. Or an application that tracks activity in an automated production line and identifies failures. Or a racing car telemetry system that uses sensors to proactively warn engineers about potential mechanical failures before they happen.\n",
    "\n",
    "These kinds of scenario can be addressed by using anomaly detection - a machine learning based technique that analyzes data over time and identifies unusual changes.\n",
    "\n",
    "Let's explore how anomaly detection might help in the racing car scenario. \n",
    "\n",
    "![animation](https://learn.microsoft.com/en-in/training/wwl-data-ai/get-started-ai-fundamentals/media/anomaly-detection.gif)\n",
    "\n",
    "    1. Sensors in the car collect telemetry, such as engine revolutions, brake temperature, and so on.\n",
    "    2. An anomaly detection model is trained to understand expected fluctuations in the telemetry measurements over time.\n",
    "    3. If a measurement occurs outside of the normal expected range, the model reports an anomaly that can be used to alert the race engineer to call the driver in for a pit stop to fix the issue before it forces retirement from the race.\n",
    "    \n",
    "## Anomaly detection in Microsoft Azure\n",
    "In Microsoft Azure, the **[Anomaly Detector service](https://azure.microsoft.com/en-in/products/cognitive-services/anomaly-detector/)** provides an application programming interface (API) that developers can use to create anomaly detection solutions.\n"
   ]
  },
  {
   "cell_type": "code",
   "execution_count": null,
   "id": "8d9cce9b",
   "metadata": {
    "papermill": {
     "duration": 0.001926,
     "end_time": "2023-04-02T14:36:27.855463",
     "exception": false,
     "start_time": "2023-04-02T14:36:27.853537",
     "status": "completed"
    },
    "tags": []
   },
   "outputs": [],
   "source": []
  }
 ],
 "metadata": {
  "kernelspec": {
   "display_name": "Python 3",
   "language": "python",
   "name": "python3"
  },
  "language_info": {
   "codemirror_mode": {
    "name": "ipython",
    "version": 3
   },
   "file_extension": ".py",
   "mimetype": "text/x-python",
   "name": "python",
   "nbconvert_exporter": "python",
   "pygments_lexer": "ipython3",
   "version": "3.7.12"
  },
  "papermill": {
   "default_parameters": {},
   "duration": 9.967559,
   "end_time": "2023-04-02T14:36:28.478097",
   "environment_variables": {},
   "exception": null,
   "input_path": "__notebook__.ipynb",
   "output_path": "__notebook__.ipynb",
   "parameters": {},
   "start_time": "2023-04-02T14:36:18.510538",
   "version": "2.4.0"
  }
 },
 "nbformat": 4,
 "nbformat_minor": 5
}
